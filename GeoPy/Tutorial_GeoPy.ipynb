{
 "cells": [
  {
   "cell_type": "markdown",
   "metadata": {},
   "source": [
    "# Tutorial GeoPy"
   ]
  },
  {
   "cell_type": "markdown",
   "metadata": {
    "id": "WzozxW2vxhyO"
   },
   "source": [
    "Para instalar a biblioteca, utilize o comando abaixo. (Remova o comentário)"
   ]
  },
  {
   "cell_type": "code",
   "execution_count": 38,
   "metadata": {
    "id": "rhAz5StOxtrs"
   },
   "outputs": [],
   "source": [
    "#!pip install geopy\n",
    "#!pip install geobr"
   ]
  },
  {
   "cell_type": "code",
   "execution_count": 1,
   "metadata": {
    "id": "LwUkR4_cz4KO"
   },
   "outputs": [],
   "source": [
    "import pandas as pd\n",
    "import geopy"
   ]
  },
  {
   "cell_type": "markdown",
   "metadata": {
    "id": "MPPtvu_kx19q"
   },
   "source": [
    "A título de exemplo, vamos utilizar os dados das sedes municipais que podem ser obtidos utilizado o código abaixo. \n",
    "\n",
    "*As bibliotecas \"pandas\" e \"geopy\" também devem estar instaladas para execução dos testes."
   ]
  },
  {
   "cell_type": "code",
   "execution_count": 11,
   "metadata": {
    "id": "UQVTZLqm1xj3"
   },
   "outputs": [],
   "source": [
    "from geobr import read_municipal_seat"
   ]
  },
  {
   "cell_type": "code",
   "execution_count": 12,
   "metadata": {
    "id": "rxIaAQJh118h"
   },
   "outputs": [],
   "source": [
    "sedes_municipais = read_municipal_seat(year=2010)"
   ]
  },
  {
   "cell_type": "code",
   "execution_count": 13,
   "metadata": {
    "colab": {
     "base_uri": "https://localhost:8080/",
     "height": 144
    },
    "id": "odcJCppn14Es",
    "outputId": "ff92b26d-7044-4b4f-d703-adb022d5595e"
   },
   "outputs": [
    {
     "data": {
      "text/html": [
       "<div>\n",
       "<style scoped>\n",
       "    .dataframe tbody tr th:only-of-type {\n",
       "        vertical-align: middle;\n",
       "    }\n",
       "\n",
       "    .dataframe tbody tr th {\n",
       "        vertical-align: top;\n",
       "    }\n",
       "\n",
       "    .dataframe thead th {\n",
       "        text-align: right;\n",
       "    }\n",
       "</style>\n",
       "<table border=\"1\" class=\"dataframe\">\n",
       "  <thead>\n",
       "    <tr style=\"text-align: right;\">\n",
       "      <th></th>\n",
       "      <th>code_muni</th>\n",
       "      <th>name_muni</th>\n",
       "      <th>code_state</th>\n",
       "      <th>abbrev_state</th>\n",
       "      <th>code_region</th>\n",
       "      <th>name_region</th>\n",
       "      <th>year</th>\n",
       "      <th>geometry</th>\n",
       "    </tr>\n",
       "  </thead>\n",
       "  <tbody>\n",
       "    <tr>\n",
       "      <th>0</th>\n",
       "      <td>1100015.0</td>\n",
       "      <td>Alta Floresta D'oeste</td>\n",
       "      <td>11</td>\n",
       "      <td>RO</td>\n",
       "      <td>1</td>\n",
       "      <td>Norte</td>\n",
       "      <td>2010</td>\n",
       "      <td>POINT (-61.99982 -11.93554)</td>\n",
       "    </tr>\n",
       "    <tr>\n",
       "      <th>1</th>\n",
       "      <td>1100023.0</td>\n",
       "      <td>Ariquemes</td>\n",
       "      <td>11</td>\n",
       "      <td>RO</td>\n",
       "      <td>1</td>\n",
       "      <td>Norte</td>\n",
       "      <td>2010</td>\n",
       "      <td>POINT (-63.03327 -9.90846)</td>\n",
       "    </tr>\n",
       "    <tr>\n",
       "      <th>2</th>\n",
       "      <td>1100031.0</td>\n",
       "      <td>Cabixi</td>\n",
       "      <td>11</td>\n",
       "      <td>RO</td>\n",
       "      <td>1</td>\n",
       "      <td>Norte</td>\n",
       "      <td>2010</td>\n",
       "      <td>POINT (-60.54431 -13.49976)</td>\n",
       "    </tr>\n",
       "  </tbody>\n",
       "</table>\n",
       "</div>"
      ],
      "text/plain": [
       "   code_muni              name_muni  ...  year                     geometry\n",
       "0  1100015.0  Alta Floresta D'oeste  ...  2010  POINT (-61.99982 -11.93554)\n",
       "1  1100023.0              Ariquemes  ...  2010   POINT (-63.03327 -9.90846)\n",
       "2  1100031.0                 Cabixi  ...  2010  POINT (-60.54431 -13.49976)\n",
       "\n",
       "[3 rows x 8 columns]"
      ]
     },
     "execution_count": 13,
     "metadata": {
      "tags": []
     },
     "output_type": "execute_result"
    }
   ],
   "source": [
    "sedes_municipais[:3]"
   ]
  },
  {
   "cell_type": "markdown",
   "metadata": {
    "id": "Ffmz0ubpzZvg"
   },
   "source": [
    "O código abaixo está filtrando a base de dados de modo a para obter sedes municipais que estão em Minas Gerais."
   ]
  },
  {
   "cell_type": "code",
   "execution_count": 14,
   "metadata": {
    "id": "OaNVSwvQ1690"
   },
   "outputs": [],
   "source": [
    "mg = sedes_municipais[sedes_municipais['abbrev_state'] == 'MG']"
   ]
  },
  {
   "cell_type": "code",
   "execution_count": 15,
   "metadata": {
    "colab": {
     "base_uri": "https://localhost:8080/",
     "height": 144
    },
    "id": "qRs4frnj2QS3",
    "outputId": "fa98b875-f647-468b-d7b7-d805664170a4"
   },
   "outputs": [
    {
     "data": {
      "text/html": [
       "<div>\n",
       "<style scoped>\n",
       "    .dataframe tbody tr th:only-of-type {\n",
       "        vertical-align: middle;\n",
       "    }\n",
       "\n",
       "    .dataframe tbody tr th {\n",
       "        vertical-align: top;\n",
       "    }\n",
       "\n",
       "    .dataframe thead th {\n",
       "        text-align: right;\n",
       "    }\n",
       "</style>\n",
       "<table border=\"1\" class=\"dataframe\">\n",
       "  <thead>\n",
       "    <tr style=\"text-align: right;\">\n",
       "      <th></th>\n",
       "      <th>code_muni</th>\n",
       "      <th>name_muni</th>\n",
       "      <th>code_state</th>\n",
       "      <th>abbrev_state</th>\n",
       "      <th>code_region</th>\n",
       "      <th>name_region</th>\n",
       "      <th>year</th>\n",
       "      <th>geometry</th>\n",
       "    </tr>\n",
       "  </thead>\n",
       "  <tbody>\n",
       "    <tr>\n",
       "      <th>2243</th>\n",
       "      <td>3100104.0</td>\n",
       "      <td>Abadia Dos Dourados</td>\n",
       "      <td>31</td>\n",
       "      <td>MG</td>\n",
       "      <td>3</td>\n",
       "      <td>Sudeste</td>\n",
       "      <td>2010</td>\n",
       "      <td>POINT (-47.39683 -18.48756)</td>\n",
       "    </tr>\n",
       "    <tr>\n",
       "      <th>2244</th>\n",
       "      <td>3100203.0</td>\n",
       "      <td>Abaeté</td>\n",
       "      <td>31</td>\n",
       "      <td>MG</td>\n",
       "      <td>3</td>\n",
       "      <td>Sudeste</td>\n",
       "      <td>2010</td>\n",
       "      <td>POINT (-45.44619 -19.15585)</td>\n",
       "    </tr>\n",
       "    <tr>\n",
       "      <th>2245</th>\n",
       "      <td>3100302.0</td>\n",
       "      <td>Abre Campo</td>\n",
       "      <td>31</td>\n",
       "      <td>MG</td>\n",
       "      <td>3</td>\n",
       "      <td>Sudeste</td>\n",
       "      <td>2010</td>\n",
       "      <td>POINT (-42.48099 -20.30145)</td>\n",
       "    </tr>\n",
       "  </tbody>\n",
       "</table>\n",
       "</div>"
      ],
      "text/plain": [
       "      code_muni            name_muni  ...  year                     geometry\n",
       "2243  3100104.0  Abadia Dos Dourados  ...  2010  POINT (-47.39683 -18.48756)\n",
       "2244  3100203.0               Abaeté  ...  2010  POINT (-45.44619 -19.15585)\n",
       "2245  3100302.0           Abre Campo  ...  2010  POINT (-42.48099 -20.30145)\n",
       "\n",
       "[3 rows x 8 columns]"
      ]
     },
     "execution_count": 15,
     "metadata": {
      "tags": []
     },
     "output_type": "execute_result"
    }
   ],
   "source": [
    "mg[:3]"
   ]
  },
  {
   "cell_type": "markdown",
   "metadata": {
    "id": "7flFvrEm2FX0"
   },
   "source": [
    "**Tarefas que podem ser feitas com o GeoPy**"
   ]
  },
  {
   "cell_type": "markdown",
   "metadata": {
    "id": "u2jFxzG7lC_Q"
   },
   "source": [
    "\n",
    "\n",
    "1.   Calcular a distância(geodésica ou esférica/) entre dois locais\n",
    "2.   Geocodificação\n",
    "\n"
   ]
  },
  {
   "cell_type": "markdown",
   "metadata": {
    "id": "9hWj5otj2fvV"
   },
   "source": [
    "Obtendo as coordenadas de latitude e longitude das sedes municipais de Minas Gerais.\n",
    "\n",
    "**Lembrando que as coordenadas colocadas na coluna “geometry” estão na ordem “Longitude, Latitude”."
   ]
  },
  {
   "cell_type": "code",
   "execution_count": 16,
   "metadata": {
    "id": "Lj83evWO2TtZ"
   },
   "outputs": [],
   "source": [
    "long_lat = []\n",
    "saida = mg.apply(lambda x: long_lat.append([x['geometry'].x, x['geometry'].y]), 1).dropna()\n",
    "sedes_coord = {}"
   ]
  },
  {
   "cell_type": "markdown",
   "metadata": {
    "id": "NNvu7EJoYwIw"
   },
   "source": [
    "Antes de começar a explicar o funcionamento dos métodos, o código abaixo cria um dicionário com os nomes das sedes municipais de MG juntamente com suas coordenadas.(\"Longitude, Latitude\", nessa ordem)"
   ]
  },
  {
   "cell_type": "code",
   "execution_count": 17,
   "metadata": {
    "id": "eFkaJ59YYGOl"
   },
   "outputs": [],
   "source": [
    "for i in range(0, len(long_lat)):\n",
    "  sedes_coord[list(mg['name_muni'])[i]] = long_lat[i]\n"
   ]
  },
  {
   "cell_type": "markdown",
   "metadata": {
    "id": "jxI-7WI7ZXsO"
   },
   "source": [
    "### 1 - Cálculo da Distância entre dois locais"
   ]
  },
  {
   "cell_type": "code",
   "execution_count": 18,
   "metadata": {
    "colab": {
     "base_uri": "https://localhost:8080/",
     "height": 34
    },
    "id": "mzDuJn_RZewA",
    "outputId": "09486ee2-7703-4536-cea8-5d2688808276"
   },
   "outputs": [
    {
     "name": "stdout",
     "output_type": "stream",
     "text": [
      "[-47.396832440622156, -18.487564958938947] [-43.92645317353045, -19.93752429377505]\n"
     ]
    }
   ],
   "source": [
    "local1 = sedes_coord['Abadia Dos Dourados']\n",
    "local2 = sedes_coord['Belo Horizonte']\n",
    "print(local1, local2)"
   ]
  },
  {
   "cell_type": "code",
   "execution_count": 19,
   "metadata": {
    "colab": {
     "base_uri": "https://localhost:8080/",
     "height": 34
    },
    "id": "na5uda6J4Wvg",
    "outputId": "889235a9-0a7e-4e44-f6a9-93927b63096e"
   },
   "outputs": [
    {
     "name": "stdout",
     "output_type": "stream",
     "text": [
      "401.90576190255285 km\n"
     ]
    }
   ],
   "source": [
    "from geopy import distance\n",
    "distancia = distance.distance(local1, local2)\n",
    "print(distancia)"
   ]
  },
  {
   "cell_type": "markdown",
   "metadata": {
    "id": "bO9aK-x1aliB"
   },
   "source": [
    "A unidade de saída padrão é o “km”, mas podemos mostrá-la em milhas. (Caso for necessário)"
   ]
  },
  {
   "cell_type": "code",
   "execution_count": 20,
   "metadata": {
    "colab": {
     "base_uri": "https://localhost:8080/",
     "height": 34
    },
    "id": "Pq5lKO7PbApH",
    "outputId": "128ac76f-f80c-4b5e-8768-50cd9864dcb0"
   },
   "outputs": [
    {
     "data": {
      "text/plain": [
       "249.73266244044333"
      ]
     },
     "execution_count": 20,
     "metadata": {
      "tags": []
     },
     "output_type": "execute_result"
    }
   ],
   "source": [
    "distancia = distance.distance(local1, local2).miles\n",
    "distancia"
   ]
  },
  {
   "cell_type": "markdown",
   "metadata": {
    "id": "vFaJGusulVlg"
   },
   "source": [
    "O forma de medida padrão é a distância geodésica, mas podemos escolher a distância esférica da seguinte forma.\n",
    "\n",
    "*A diferença entre as duas é que a distância geodésica se aplica a superfícies gerais que tenham curvatura, como: Esferas e Elipsoides. \n",
    "Enquanto que a distância esférica se aplica apenas a superfícies esféricas. Toda distância esférica é geodésica, mas nem toda geodésica é esférica."
   ]
  },
  {
   "cell_type": "code",
   "execution_count": 21,
   "metadata": {
    "colab": {
     "base_uri": "https://localhost:8080/",
     "height": 34
    },
    "id": "sPgJ_kpUlvyM",
    "outputId": "522cef7e-9c3d-4d91-bf69-d1d8f78d46d9"
   },
   "outputs": [
    {
     "data": {
      "text/plain": [
       "401.98397357091784"
      ]
     },
     "execution_count": 21,
     "metadata": {
      "tags": []
     },
     "output_type": "execute_result"
    }
   ],
   "source": [
    "from geopy import distance\n",
    "distancia = distance.great_circle(local1, local2).km\n",
    "distancia"
   ]
  },
  {
   "cell_type": "markdown",
   "metadata": {
    "id": "wUmVfExsnKUn"
   },
   "source": [
    "No cálculo da distância geodésica, existem vários modelos que podem ser seguidos. O padrão é o WGS-84 (World Geodetic System - 1984), que é o mais preciso, mas o Geopy também suporta outros como: GRS-80, Airy (1830), Clarke (1880), GRS-67. Eles podem ser alterados pelo parâmetro “ellipsoid” do método de distância geodésica. "
   ]
  },
  {
   "cell_type": "code",
   "execution_count": null,
   "metadata": {
    "colab": {
     "base_uri": "https://localhost:8080/",
     "height": 34
    },
    "id": "-llrRaculz7T",
    "outputId": "ead55e17-749e-498f-db71-a5705f6d6a9c"
   },
   "outputs": [
    {
     "data": {
      "text/plain": [
       "Distance(401.9041497954684)"
      ]
     },
     "execution_count": 88,
     "metadata": {
      "tags": []
     },
     "output_type": "execute_result"
    }
   ],
   "source": [
    "distancia = distance.geodesic(local1, local2, ellipsoid='Clarke (1880)')\n",
    "distancia"
   ]
  },
  {
   "cell_type": "markdown",
   "metadata": {
    "id": "tR6O5bJ5_dzg"
   },
   "source": [
    "###  2 - Geocodificação "
   ]
  },
  {
   "cell_type": "code",
   "execution_count": 23,
   "metadata": {
    "id": "Xr6ZptE6oPU9"
   },
   "outputs": [],
   "source": [
    "from geopy import Nominatim\n",
    "geolocator = Nominatim(user_agent=\"tutorial_cda\") "
   ]
  },
  {
   "cell_type": "code",
   "execution_count": 36,
   "metadata": {
    "colab": {
     "base_uri": "https://localhost:8080/",
     "height": 54
    },
    "id": "M-LwfXUx9xKf",
    "outputId": "b585a79d-1002-4b8b-a475-f4e3dc84997b"
   },
   "outputs": [
    {
     "data": {
      "text/plain": [
       "Location(Estádio Governador Magalhães Pinto, 1001, Avenida Antônio Abrahão Caram, São José, São Luiz, Pampulha, Belo Horizonte, Microrregião Belo Horizonte, Região Metropolitana de Belo Horizonte, Região Geográfica Intermediária de Belo Horizonte, Minas Gerais, Região Sudeste, 31275-000, Brasil, (-19.86588775, -43.97106904150964, 0.0))"
      ]
     },
     "execution_count": 36,
     "metadata": {
      "tags": []
     },
     "output_type": "execute_result"
    }
   ],
   "source": [
    "estadio = geolocator.geocode(\"Mineirão\")\n",
    "estadio"
   ]
  },
  {
   "cell_type": "code",
   "execution_count": 37,
   "metadata": {
    "colab": {
     "base_uri": "https://localhost:8080/",
     "height": 54
    },
    "id": "w6vcLTpc9zMe",
    "outputId": "9de32a07-1412-43f8-d2a1-73dcbe53932e"
   },
   "outputs": [
    {
     "data": {
      "text/plain": [
       "Location(Estádio Governador Magalhães Pinto, 1001, Avenida Antônio Abrahão Caram, São José, São Luiz, Pampulha, Belo Horizonte, Microrregião Belo Horizonte, Região Metropolitana de Belo Horizonte, Região Geográfica Intermediária de Belo Horizonte, Minas Gerais, Região Sudeste, 31275-000, Brasil, (-19.86588775, -43.97106904150964, 0.0))"
      ]
     },
     "execution_count": 37,
     "metadata": {
      "tags": []
     },
     "output_type": "execute_result"
    }
   ],
   "source": [
    "reverso = geolocator.reverse(\"-19.86588775, -43.97106904150964, 0.0\")\n",
    "reverso"
   ]
  }
 ],
 "metadata": {
  "colab": {
   "collapsed_sections": [],
   "name": "Tutorial GeoPy.ipynb",
   "provenance": []
  },
  "kernelspec": {
   "display_name": "Python 3",
   "language": "python",
   "name": "python3"
  },
  "language_info": {
   "codemirror_mode": {
    "name": "ipython",
    "version": 3
   },
   "file_extension": ".py",
   "mimetype": "text/x-python",
   "name": "python",
   "nbconvert_exporter": "python",
   "pygments_lexer": "ipython3",
   "version": "3.7.7"
  }
 },
 "nbformat": 4,
 "nbformat_minor": 1
}
